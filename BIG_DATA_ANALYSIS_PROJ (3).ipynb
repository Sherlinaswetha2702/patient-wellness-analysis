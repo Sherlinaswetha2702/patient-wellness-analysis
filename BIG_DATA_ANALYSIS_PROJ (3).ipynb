{
  "nbformat": 4,
  "nbformat_minor": 0,
  "metadata": {
    "colab": {
      "provenance": [],
      "gpuType": "T4",
      "collapsed_sections": [
        "Hcnl4UJSWSJZ",
        "a5P06xZ2WW-q"
      ]
    },
    "kernelspec": {
      "name": "python3",
      "display_name": "Python 3"
    },
    "language_info": {
      "name": "python"
    },
    "accelerator": "GPU"
  },
  "cells": [
    {
      "cell_type": "code",
      "source": [
        "from pyspark.sql import SparkSession\n",
        "spark = SparkSession.builder \\\n",
        "    .appName(\"Patients_data_BDA\") \\\n",
        "    .getOrCreate()\n",
        "spark\n"
      ],
      "metadata": {
        "colab": {
          "base_uri": "https://localhost:8080/",
          "height": 219
        },
        "id": "pyD6aFQG0-4q",
        "outputId": "a944cbe5-d230-4a60-eec3-312de89b0ac5"
      },
      "execution_count": null,
      "outputs": [
        {
          "output_type": "execute_result",
          "data": {
            "text/plain": [
              "<pyspark.sql.session.SparkSession at 0x7adb2cd03510>"
            ],
            "text/html": [
              "\n",
              "            <div>\n",
              "                <p><b>SparkSession - in-memory</b></p>\n",
              "                \n",
              "        <div>\n",
              "            <p><b>SparkContext</b></p>\n",
              "\n",
              "            <p><a href=\"http://049053a3da41:4040\">Spark UI</a></p>\n",
              "\n",
              "            <dl>\n",
              "              <dt>Version</dt>\n",
              "                <dd><code>v3.5.5</code></dd>\n",
              "              <dt>Master</dt>\n",
              "                <dd><code>local[*]</code></dd>\n",
              "              <dt>AppName</dt>\n",
              "                <dd><code>Patients_data_BDA</code></dd>\n",
              "            </dl>\n",
              "        </div>\n",
              "        \n",
              "            </div>\n",
              "        "
            ]
          },
          "metadata": {},
          "execution_count": 1
        }
      ]
    },
    {
      "cell_type": "markdown",
      "source": [
        " Load a Dataset"
      ],
      "metadata": {
        "id": "UmcgWXwZ1gDD"
      }
    },
    {
      "cell_type": "code",
      "source": [
        "df = spark.read.csv(r\"/content/drive/MyDrive/Patients_Data.csv\", header=True, inferSchema=True)\n",
        "df.printSchema()\n",
        "df.show()\n"
      ],
      "metadata": {
        "colab": {
          "base_uri": "https://localhost:8080/"
        },
        "id": "5zBold7-1Q97",
        "outputId": "73280ee1-6a68-47c9-bb92-f788a0597538"
      },
      "execution_count": null,
      "outputs": [
        {
          "output_type": "stream",
          "name": "stdout",
          "text": [
            "root\n",
            " |-- PatientID: integer (nullable = true)\n",
            " |-- State: string (nullable = true)\n",
            " |-- Sex: string (nullable = true)\n",
            " |-- GeneralHealth: string (nullable = true)\n",
            " |-- AgeCategory: string (nullable = true)\n",
            " |-- HeightInMeters: double (nullable = true)\n",
            " |-- WeightInKilograms: double (nullable = true)\n",
            " |-- BMI: double (nullable = true)\n",
            " |-- HadHeartAttack: integer (nullable = true)\n",
            " |-- HadAngina: integer (nullable = true)\n",
            " |-- HadStroke: integer (nullable = true)\n",
            " |-- HadAsthma: integer (nullable = true)\n",
            " |-- HadSkinCancer: integer (nullable = true)\n",
            " |-- HadCOPD: integer (nullable = true)\n",
            " |-- HadDepressiveDisorder: integer (nullable = true)\n",
            " |-- HadKidneyDisease: integer (nullable = true)\n",
            " |-- HadArthritis: integer (nullable = true)\n",
            " |-- HadDiabetes: string (nullable = true)\n",
            " |-- DeafOrHardOfHearing: integer (nullable = true)\n",
            " |-- BlindOrVisionDifficulty: integer (nullable = true)\n",
            " |-- DifficultyConcentrating: integer (nullable = true)\n",
            " |-- DifficultyWalking: integer (nullable = true)\n",
            " |-- DifficultyDressingBathing: integer (nullable = true)\n",
            " |-- DifficultyErrands: integer (nullable = true)\n",
            " |-- SmokerStatus: string (nullable = true)\n",
            " |-- ECigaretteUsage: string (nullable = true)\n",
            " |-- ChestScan: integer (nullable = true)\n",
            " |-- RaceEthnicityCategory: string (nullable = true)\n",
            " |-- AlcoholDrinkers: integer (nullable = true)\n",
            " |-- HIVTesting: integer (nullable = true)\n",
            " |-- FluVaxLast12: integer (nullable = true)\n",
            " |-- PneumoVaxEver: integer (nullable = true)\n",
            " |-- TetanusLast10Tdap: string (nullable = true)\n",
            " |-- HighRiskLastYear: integer (nullable = true)\n",
            " |-- CovidPos: integer (nullable = true)\n",
            "\n",
            "+---------+-------+------+-------------+---------------+--------------+-----------------+-----------+--------------+---------+---------+---------+-------------+-------+---------------------+----------------+------------+--------------------+-------------------+-----------------------+-----------------------+-----------------+-------------------------+-----------------+--------------------+--------------------+---------+---------------------+---------------+----------+------------+-------------+--------------------+----------------+--------+\n",
            "|PatientID|  State|   Sex|GeneralHealth|    AgeCategory|HeightInMeters|WeightInKilograms|        BMI|HadHeartAttack|HadAngina|HadStroke|HadAsthma|HadSkinCancer|HadCOPD|HadDepressiveDisorder|HadKidneyDisease|HadArthritis|         HadDiabetes|DeafOrHardOfHearing|BlindOrVisionDifficulty|DifficultyConcentrating|DifficultyWalking|DifficultyDressingBathing|DifficultyErrands|        SmokerStatus|     ECigaretteUsage|ChestScan|RaceEthnicityCategory|AlcoholDrinkers|HIVTesting|FluVaxLast12|PneumoVaxEver|   TetanusLast10Tdap|HighRiskLastYear|CovidPos|\n",
            "+---------+-------+------+-------------+---------------+--------------+-----------------+-----------+--------------+---------+---------+---------+-------------+-------+---------------------+----------------+------------+--------------------+-------------------+-----------------------+-----------------------+-----------------+-------------------------+-----------------+--------------------+--------------------+---------+---------------------+---------------+----------+------------+-------------+--------------------+----------------+--------+\n",
            "|        1|Alabama|Female|         Fair|   Age 75 to 79|   1.629999995|      84.81999969|32.09999847|             0|        1|        0|        1|            1|      0|                    0|               0|           1|                 Yes|                  0|                      0|                      0|                1|                        0|                0|       Former smoker|Never used e-ciga...|        1| White only, Non-H...|              0|         0|           0|            1|No, did not recei...|               0|       1|\n",
            "|        2|Alabama|Female|    Very good|   Age 65 to 69|   1.600000024|      71.66999817|27.98999977|             0|        0|        0|        0|            0|      0|                    0|               0|           1|                  No|                  0|                      0|                      0|                0|                        0|                0|       Former smoker|Never used e-ciga...|        0| White only, Non-H...|              0|         0|           1|            1|  Yes, received Tdap|               0|       0|\n",
            "|        3|Alabama|  Male|    Excellent|   Age 60 to 64|   1.779999971|      71.20999908|22.53000069|             0|        0|        0|        0|            0|      0|                    0|               0|           0|                  No|                  0|                      0|                      0|                0|                        0|                0|        Never smoked|Never used e-ciga...|        0| White only, Non-H...|              1|         0|           0|            0|Yes, received tet...|               0|       0|\n",
            "|        4|Alabama|  Male|    Very good|   Age 70 to 74|   1.779999971|            95.25|30.12999916|             0|        0|        0|        0|            0|      0|                    0|               0|           1|                 Yes|                  0|                      0|                      0|                0|                        0|                0|       Former smoker|Never used e-ciga...|        0| White only, Non-H...|              0|         0|           1|            1|Yes, received tet...|               0|       0|\n",
            "|        5|Alabama|Female|         Good|   Age 50 to 54|   1.679999948|      78.01999664|27.76000023|             0|        0|        0|        0|            0|      0|                    0|               0|           0|                  No|                  0|                      0|                      0|                0|                        0|                0|        Never smoked|Never used e-ciga...|        1| Black only, Non-H...|              0|         0|           1|            0|No, did not recei...|               0|       0|\n",
            "|        6|Alabama|  Male|    Very good|   Age 75 to 79|   1.850000024|      108.8600006|31.65999985|             0|        0|        0|        0|            0|      0|                    0|               0|           1|                  No|                  0|                      1|                      0|                1|                        0|                0|       Former smoker|Never used e-ciga...|        1| White only, Non-H...|              1|         0|           0|            1|No, did not recei...|               0|       1|\n",
            "|        7|Alabama|Female|         Good|   Age 70 to 74|   1.700000048|      74.83999634|25.84000015|             0|        0|        0|        0|            0|      0|                    0|               0|           1|                  No|                  0|                      0|                      0|                0|                        0|                0|        Never smoked|Never used e-ciga...|        1| Black only, Non-H...|              1|         0|           0|            0|No, did not recei...|               0|       0|\n",
            "|        8| Alaska|Female|         Fair|   Age 60 to 64|   1.700000048|      87.54000092|30.22999954|             0|        0|        0|        0|            0|      0|                    1|               0|           1|No, pre-diabetes ...|                  1|                      0|                      1|                1|                        0|                1|        Never smoked|Never used e-ciga...|        0| Black only, Non-H...|              0|         0|           0|            1|No, did not recei...|               0|       0|\n",
            "|        9|Alabama|Female|         Fair|Age 80 or older|   1.700000048|      90.72000122|31.31999969|             0|        0|        0|        0|            1|      0|                    1|               0|           1|                  No|                  0|                      0|                      0|                1|                        0|                0|        Never smoked|Never used e-ciga...|        0| White only, Non-H...|              0|         0|           1|            1|No, did not recei...|               0|       1|\n",
            "|       10|Alabama|Female|         Good|Age 80 or older|   1.549999952|      79.37999725|33.06999969|             0|        0|        0|        0|            0|      0|                    0|               0|           1|                  No|                  0|                      0|                      0|                0|                        0|                0|        Never smoked|Never used e-ciga...|        0| White only, Non-H...|              0|         0|           1|            1|No, did not recei...|               0|       0|\n",
            "|       11| Alaska|Female|         Good|   Age 55 to 59|   1.600000024|      113.4000015|44.29000092|             0|        0|        0|        1|            0|      0|                    0|               0|           0|                  No|                  0|                      0|                      0|                0|                        0|                0|        Never smoked|Never used e-ciga...|        0| White only, Non-H...|              1|         0|           1|            0|No, did not recei...|               0|       0|\n",
            "|       12| Alaska|  Male|         Good|   Age 25 to 29|   1.799999952|      79.83000183|24.54999924|             0|        0|        0|        0|            0|      0|                    0|               0|           0|                  No|                  0|                      0|                      0|                0|                        0|                0|        Never smoked|Not at all (right...|        0| White only, Non-H...|              1|         0|           0|            0|Yes, received tet...|               0|       0|\n",
            "|       13|Alabama|  Male|         Good|   Age 50 to 54|   1.850000024|      120.1999969|34.95999908|             0|        0|        0|        0|            0|      0|                    0|               0|           0|                  No|                  0|                      0|                      0|                0|                        0|                0|        Never smoked|Never used e-ciga...|        1| White only, Non-H...|              1|         1|           1|            0|Yes, received tet...|               0|       0|\n",
            "|       14|Alabama|Female|    Excellent|   Age 60 to 64|   1.649999976|      57.61000061|21.12999916|             0|        0|        0|        0|            0|      0|                    0|               0|           0|                  No|                  0|                      0|                      0|                0|                        0|                0|Current smoker - ...|Not at all (right...|        0| White only, Non-H...|              1|         1|           0|            0|No, did not recei...|               0|       1|\n",
            "|       15|Alabama|Female|         Good|Age 80 or older|   1.629999995|             88.0|33.29999924|             0|        0|        1|        0|            0|      0|                    0|               0|           0|                 Yes|                  0|                      0|                      0|                0|                        0|                0|        Never smoked|Never used e-ciga...|        1| Black only, Non-H...|              0|         0|           1|            1|No, did not recei...|               0|       0|\n",
            "|       16|Alabama|  Male|         Good|   Age 65 to 69|   1.700000048|      90.72000122|31.31999969|             0|        0|        0|        0|            0|      0|                    0|               0|           1|                  No|                  0|                      0|                      0|                0|                        0|                0|        Never smoked|Never used e-ciga...|        0| Black only, Non-H...|              0|         0|           0|            0|No, did not recei...|               0|       0|\n",
            "|       17|Alabama|  Male|         Fair|   Age 75 to 79|          1.75|      74.83999634|24.37000084|             1|        1|        0|        0|            1|      0|                    0|               0|           1|                 Yes|                  0|                      0|                      0|                0|                        0|                0|        Never smoked|Never used e-ciga...|        1| White only, Non-H...|              0|         1|           1|            1|No, did not recei...|               0|       1|\n",
            "|       18|Alabama|Female|         Poor|   Age 75 to 79|   1.570000052|      74.83999634|30.18000031|             0|        1|        0|        0|            1|      1|                    1|               0|           1|                  No|                  0|                      0|                      1|                1|                        0|                0|       Former smoker|Never used e-ciga...|        0| White only, Non-H...|              1|         0|           1|            1|No, did not recei...|               0|       0|\n",
            "|       19|Alabama|  Male|    Very good|   Age 25 to 29|   1.730000019|      72.56999969|24.32999992|             0|        0|        0|        0|            0|      0|                    0|               0|           0|                  No|                  0|                      0|                      0|                0|                        0|                0|        Never smoked|Never used e-ciga...|        0| Black only, Non-H...|              1|         0|           0|            0|No, did not recei...|               0|       0|\n",
            "|       20|Alabama|  Male|         Good|   Age 40 to 44|   1.700000048|      78.01999664|26.94000053|             0|        0|        0|        0|            0|      0|                    0|               0|           1|                  No|                  1|                      0|                      0|                0|                        0|                0|       Former smoker|Never used e-ciga...|        1| White only, Non-H...|              0|         0|           0|            0|No, did not recei...|               0|       1|\n",
            "+---------+-------+------+-------------+---------------+--------------+-----------------+-----------+--------------+---------+---------+---------+-------------+-------+---------------------+----------------+------------+--------------------+-------------------+-----------------------+-----------------------+-----------------+-------------------------+-----------------+--------------------+--------------------+---------+---------------------+---------------+----------+------------+-------------+--------------------+----------------+--------+\n",
            "only showing top 20 rows\n",
            "\n"
          ]
        }
      ]
    },
    {
      "cell_type": "code",
      "source": [
        "df.printSchema()"
      ],
      "metadata": {
        "colab": {
          "base_uri": "https://localhost:8080/"
        },
        "id": "EVQ2vj9-sFfP",
        "outputId": "796de2cc-cbb9-46de-b99b-64d92a038120"
      },
      "execution_count": null,
      "outputs": [
        {
          "output_type": "stream",
          "name": "stdout",
          "text": [
            "root\n",
            " |-- PatientID: integer (nullable = true)\n",
            " |-- State: string (nullable = true)\n",
            " |-- Sex: string (nullable = true)\n",
            " |-- GeneralHealth: string (nullable = true)\n",
            " |-- AgeCategory: string (nullable = true)\n",
            " |-- HeightInMeters: double (nullable = true)\n",
            " |-- WeightInKilograms: double (nullable = true)\n",
            " |-- BMI: double (nullable = true)\n",
            " |-- HadHeartAttack: integer (nullable = true)\n",
            " |-- HadAngina: integer (nullable = true)\n",
            " |-- HadStroke: integer (nullable = true)\n",
            " |-- HadAsthma: integer (nullable = true)\n",
            " |-- HadSkinCancer: integer (nullable = true)\n",
            " |-- HadCOPD: integer (nullable = true)\n",
            " |-- HadDepressiveDisorder: integer (nullable = true)\n",
            " |-- HadKidneyDisease: integer (nullable = true)\n",
            " |-- HadArthritis: integer (nullable = true)\n",
            " |-- HadDiabetes: string (nullable = true)\n",
            " |-- DeafOrHardOfHearing: integer (nullable = true)\n",
            " |-- BlindOrVisionDifficulty: integer (nullable = true)\n",
            " |-- DifficultyConcentrating: integer (nullable = true)\n",
            " |-- DifficultyWalking: integer (nullable = true)\n",
            " |-- DifficultyDressingBathing: integer (nullable = true)\n",
            " |-- DifficultyErrands: integer (nullable = true)\n",
            " |-- SmokerStatus: string (nullable = true)\n",
            " |-- ECigaretteUsage: string (nullable = true)\n",
            " |-- ChestScan: integer (nullable = true)\n",
            " |-- RaceEthnicityCategory: string (nullable = true)\n",
            " |-- AlcoholDrinkers: integer (nullable = true)\n",
            " |-- HIVTesting: integer (nullable = true)\n",
            " |-- FluVaxLast12: integer (nullable = true)\n",
            " |-- PneumoVaxEver: integer (nullable = true)\n",
            " |-- TetanusLast10Tdap: string (nullable = true)\n",
            " |-- HighRiskLastYear: integer (nullable = true)\n",
            " |-- CovidPos: integer (nullable = true)\n",
            "\n"
          ]
        }
      ]
    },
    {
      "cell_type": "markdown",
      "source": [
        "MISSING VALUES"
      ],
      "metadata": {
        "id": "kNRrw718tLy5"
      }
    },
    {
      "cell_type": "code",
      "source": [
        "from pyspark.sql.functions import col, sum\n",
        "\n",
        "df.select([sum(col(c).isNull().cast(\"int\")).alias(c) for c in df.columns]).show()\n"
      ],
      "metadata": {
        "colab": {
          "base_uri": "https://localhost:8080/"
        },
        "id": "vPQ59RMusZyX",
        "outputId": "cffb665e-e1a7-4c3c-c9d1-a1c59ae5bfa3"
      },
      "execution_count": null,
      "outputs": [
        {
          "output_type": "stream",
          "name": "stdout",
          "text": [
            "+---------+-----+---+-------------+-----------+--------------+-----------------+---+--------------+---------+---------+---------+-------------+-------+---------------------+----------------+------------+-----------+-------------------+-----------------------+-----------------------+-----------------+-------------------------+-----------------+------------+---------------+---------+---------------------+---------------+----------+------------+-------------+-----------------+----------------+--------+\n",
            "|PatientID|State|Sex|GeneralHealth|AgeCategory|HeightInMeters|WeightInKilograms|BMI|HadHeartAttack|HadAngina|HadStroke|HadAsthma|HadSkinCancer|HadCOPD|HadDepressiveDisorder|HadKidneyDisease|HadArthritis|HadDiabetes|DeafOrHardOfHearing|BlindOrVisionDifficulty|DifficultyConcentrating|DifficultyWalking|DifficultyDressingBathing|DifficultyErrands|SmokerStatus|ECigaretteUsage|ChestScan|RaceEthnicityCategory|AlcoholDrinkers|HIVTesting|FluVaxLast12|PneumoVaxEver|TetanusLast10Tdap|HighRiskLastYear|CovidPos|\n",
            "+---------+-----+---+-------------+-----------+--------------+-----------------+---+--------------+---------+---------+---------+-------------+-------+---------------------+----------------+------------+-----------+-------------------+-----------------------+-----------------------+-----------------+-------------------------+-----------------+------------+---------------+---------+---------------------+---------------+----------+------------+-------------+-----------------+----------------+--------+\n",
            "|        0|    0|  0|            0|          0|             0|                0|  0|             0|        0|        0|        0|            0|      0|                    0|               0|           0|          0|                  0|                      0|                      0|                0|                        0|                0|           0|              0|        0|                    0|              0|         0|           0|            0|                0|               0|       0|\n",
            "+---------+-----+---+-------------+-----------+--------------+-----------------+---+--------------+---------+---------+---------+-------------+-------+---------------------+----------------+------------+-----------+-------------------+-----------------------+-----------------------+-----------------+-------------------------+-----------------+------------+---------------+---------+---------------------+---------------+----------+------------+-------------+-----------------+----------------+--------+\n",
            "\n"
          ]
        }
      ]
    },
    {
      "cell_type": "markdown",
      "source": [
        "Handling Outliers\n"
      ],
      "metadata": {
        "id": "mNpg5RIV8HCn"
      }
    },
    {
      "cell_type": "code",
      "source": [
        "def remove_outliers(df, column):\n",
        "    quantiles = df.approxQuantile(column, [0.25, 0.75], 0.05)\n",
        "    Q1, Q3 = quantiles[0], quantiles[1]\n",
        "    IQR = Q3 - Q1\n",
        "    lower_bound, upper_bound = Q1 - 1.5 * IQR, Q3 + 1.5 * IQR\n",
        "    return df.filter((col(column) >= lower_bound) & (col(column) <= upper_bound))\n",
        "\n",
        "def count_outliers(df, column):\n",
        "    quantiles = df.approxQuantile(column, [0.25, 0.75], 0.05)\n",
        "    Q1, Q3 = quantiles[0], quantiles[1]\n",
        "    IQR = Q3 - Q1\n",
        "    lower_bound, upper_bound = Q1 - 1.5 * IQR, Q3 + 1.5 * IQR\n",
        "    outliers = df.filter((col(column) < lower_bound) | (col(column) > upper_bound))\n",
        "    return outliers.count()\n",
        "numerical_columns = [col_name for col_name, dtype in df.dtypes if dtype in ('int', 'double', 'float')]\n",
        "print(\"Outliers before removal:\")\n",
        "for col_name in numerical_columns:\n",
        "    outlier_count = count_outliers(df, col_name)\n",
        "    print(f\"Column: {col_name}, Outliers: {outlier_count}\")\n",
        "\n",
        "for col_name in numerical_columns:\n",
        "    df = remove_outliers(df, col_name)\n",
        "\n",
        "print(\"\\nOutliers after removal:\")\n",
        "for col_name in numerical_columns:\n",
        "    outlier_count = count_outliers(df, col_name)\n",
        "    print(f\"Column: {col_name}, Outliers: {outlier_count}\")"
      ],
      "metadata": {
        "colab": {
          "base_uri": "https://localhost:8080/"
        },
        "id": "W_zu2lUm5YpY",
        "outputId": "ffe110d8-14bb-4529-ab90-7bf3b83d4772"
      },
      "execution_count": null,
      "outputs": [
        {
          "output_type": "stream",
          "name": "stdout",
          "text": [
            "Outliers before removal:\n",
            "Column: PatientID, Outliers: 0\n",
            "Column: HeightInMeters, Outliers: 813\n",
            "Column: WeightInKilograms, Outliers: 5976\n",
            "Column: BMI, Outliers: 9982\n",
            "Column: HadHeartAttack, Outliers: 13201\n",
            "Column: HadAngina, Outliers: 14617\n",
            "Column: HadStroke, Outliers: 9928\n",
            "Column: HadAsthma, Outliers: 35292\n",
            "Column: HadSkinCancer, Outliers: 20252\n",
            "Column: HadCOPD, Outliers: 18602\n",
            "Column: HadDepressiveDisorder, Outliers: 48896\n",
            "Column: HadKidneyDisease, Outliers: 11029\n",
            "Column: HadArthritis, Outliers: 0\n",
            "Column: DeafOrHardOfHearing, Outliers: 20540\n",
            "Column: BlindOrVisionDifficulty, Outliers: 11987\n",
            "Column: DifficultyConcentrating, Outliers: 25501\n",
            "Column: DifficultyWalking, Outliers: 35391\n",
            "Column: DifficultyDressingBathing, Outliers: 8204\n",
            "Column: DifficultyErrands, Outliers: 16056\n",
            "Column: ChestScan, Outliers: 0\n",
            "Column: AlcoholDrinkers, Outliers: 0\n",
            "Column: HIVTesting, Outliers: 0\n",
            "Column: FluVaxLast12, Outliers: 0\n",
            "Column: PneumoVaxEver, Outliers: 0\n",
            "Column: HighRiskLastYear, Outliers: 10176\n",
            "Column: CovidPos, Outliers: 0\n",
            "\n",
            "Outliers after removal:\n",
            "Column: PatientID, Outliers: 0\n",
            "Column: HeightInMeters, Outliers: 0\n",
            "Column: WeightInKilograms, Outliers: 564\n",
            "Column: BMI, Outliers: 1144\n",
            "Column: HadHeartAttack, Outliers: 0\n",
            "Column: HadAngina, Outliers: 0\n",
            "Column: HadStroke, Outliers: 0\n",
            "Column: HadAsthma, Outliers: 0\n",
            "Column: HadSkinCancer, Outliers: 0\n",
            "Column: HadCOPD, Outliers: 0\n",
            "Column: HadDepressiveDisorder, Outliers: 0\n",
            "Column: HadKidneyDisease, Outliers: 0\n",
            "Column: HadArthritis, Outliers: 0\n",
            "Column: DeafOrHardOfHearing, Outliers: 0\n",
            "Column: BlindOrVisionDifficulty, Outliers: 0\n",
            "Column: DifficultyConcentrating, Outliers: 0\n",
            "Column: DifficultyWalking, Outliers: 0\n",
            "Column: DifficultyDressingBathing, Outliers: 0\n",
            "Column: DifficultyErrands, Outliers: 0\n",
            "Column: ChestScan, Outliers: 0\n",
            "Column: AlcoholDrinkers, Outliers: 0\n",
            "Column: HIVTesting, Outliers: 0\n",
            "Column: FluVaxLast12, Outliers: 0\n",
            "Column: PneumoVaxEver, Outliers: 0\n",
            "Column: HighRiskLastYear, Outliers: 0\n",
            "Column: CovidPos, Outliers: 0\n"
          ]
        }
      ]
    },
    {
      "cell_type": "code",
      "source": [
        "print(f\"No of Rows: {df.count()}\")\n",
        "print(f\"No of Columns: {len(df.columns)}\")"
      ],
      "metadata": {
        "colab": {
          "base_uri": "https://localhost:8080/"
        },
        "id": "HixDVyYssixg",
        "outputId": "6cce8872-2c3c-4cb6-fc89-2e8edb0e6c63"
      },
      "execution_count": null,
      "outputs": [
        {
          "output_type": "stream",
          "name": "stdout",
          "text": [
            "No of Rows: 237630\n",
            "No of Columns: 35\n"
          ]
        }
      ]
    },
    {
      "cell_type": "markdown",
      "source": [
        "# EDA\n"
      ],
      "metadata": {
        "id": "Hcnl4UJSWSJZ"
      }
    },
    {
      "cell_type": "markdown",
      "source": [
        "EDA"
      ],
      "metadata": {
        "id": "z9Hp-XYBs1uo"
      }
    },
    {
      "cell_type": "code",
      "source": [
        "df.describe()\n"
      ],
      "metadata": {
        "colab": {
          "base_uri": "https://localhost:8080/"
        },
        "outputId": "9d4b4386-45d6-4169-a933-abc2bb8ef118",
        "id": "AtJ1uaqIsx-_"
      },
      "execution_count": null,
      "outputs": [
        {
          "output_type": "execute_result",
          "data": {
            "text/plain": [
              "DataFrame[summary: string, PatientID: string, State: string, Sex: string, GeneralHealth: string, AgeCategory: string, HeightInMeters: string, WeightInKilograms: string, BMI: string, HadHeartAttack: string, HadAngina: string, HadStroke: string, HadAsthma: string, HadSkinCancer: string, HadCOPD: string, HadDepressiveDisorder: string, HadKidneyDisease: string, HadArthritis: string, HadDiabetes: string, DeafOrHardOfHearing: string, BlindOrVisionDifficulty: string, DifficultyConcentrating: string, DifficultyWalking: string, DifficultyDressingBathing: string, DifficultyErrands: string, SmokerStatus: string, ECigaretteUsage: string, ChestScan: string, RaceEthnicityCategory: string, AlcoholDrinkers: string, HIVTesting: string, FluVaxLast12: string, PneumoVaxEver: string, TetanusLast10Tdap: string, HighRiskLastYear: string, CovidPos: string]"
            ]
          },
          "metadata": {},
          "execution_count": 5
        }
      ]
    },
    {
      "cell_type": "code",
      "source": [
        "from pyspark.sql.functions import format_number\n",
        "df = df.withColumn(\"BMI\", format_number(\"BMI\", 2))"
      ],
      "metadata": {
        "id": "bZ_DBYiBixyC"
      },
      "execution_count": null,
      "outputs": []
    },
    {
      "cell_type": "code",
      "source": [
        "string_columns = [item[0] for item in df.dtypes if item[1].startswith('string')]"
      ],
      "metadata": {
        "id": "vJAPTyUgaDDk"
      },
      "execution_count": null,
      "outputs": []
    },
    {
      "cell_type": "code",
      "source": [
        "from pyspark.sql.functions import countDistinct, count\n",
        "\n",
        "for col in string_columns:\n",
        "  summary = df.agg(\n",
        "            countDistinct(col).alias(\"unique_count\"),\n",
        "            count(col).alias(\"total_count\")).collect()[0]\n",
        "\n",
        "print(f\"Summary for column '{col}':\")\n",
        "print(f\"  Unique values: {summary['unique_count']}\")\n",
        "print(f\"  Total count: {summary['total_count']}\")\n"
      ],
      "metadata": {
        "colab": {
          "base_uri": "https://localhost:8080/"
        },
        "id": "q73IZ4gJabDO",
        "outputId": "a1cdd5a1-1356-42d1-b379-e9dc9029786c"
      },
      "execution_count": null,
      "outputs": [
        {
          "output_type": "stream",
          "name": "stdout",
          "text": [
            "Summary for column 'TetanusLast10Tdap':\n",
            "  Unique values: 4\n",
            "  Total count: 237630\n"
          ]
        }
      ]
    },
    {
      "cell_type": "code",
      "source": [
        "import matplotlib.pyplot as plt\n",
        "import pandas as pd\n",
        "\n",
        "\n",
        "general_health_counts_pd = df.groupBy(\"GeneralHealth\").count().toPandas()\n",
        "\n",
        "\n",
        "plt.figure(figsize=(5, 5))\n",
        "plt.pie(general_health_counts_pd[\"count\"], labels=general_health_counts_pd[\"GeneralHealth\"], autopct='%1.1f%%', startangle=90)\n",
        "plt.title(\"Distribution of General Health\")\n",
        "plt.axis('equal')\n",
        "plt.tight_layout()\n",
        "plt.show()"
      ],
      "metadata": {
        "colab": {
          "base_uri": "https://localhost:8080/",
          "height": 506
        },
        "id": "1dw9MGN2kUJU",
        "outputId": "880bb8c0-4a9b-467c-f7d1-5a817b93b3dc"
      },
      "execution_count": null,
      "outputs": [
        {
          "output_type": "display_data",
          "data": {
            "text/plain": [
              "<Figure size 500x500 with 1 Axes>"
            ],
            "image/png": "[encoded data removed]"
          },
          "metadata": {}
        }
      ]
    },
    {
      "cell_type": "code",
      "source": [
        "import seaborn as sns\n",
        "import matplotlib.pyplot as plt\n",
        "import pandas as pd\n",
        "\n",
        "\n",
        "bmi_pd = df.select(\"BMI\").toPandas()\n",
        "\n",
        "\n",
        "plt.figure(figsize=(10, 6))\n",
        "sns.histplot(bmi_pd[\"BMI\"], bins=20, kde=True)\n",
        "plt.xlabel(\"BMI\")\n",
        "plt.ylabel(\"Frequency\")\n",
        "plt.title(\"Distribution of BMI\")\n",
        "plt.tight_layout()\n",
        "plt.show()"
      ],
      "metadata": {
        "colab": {
          "base_uri": "https://localhost:8080/",
          "height": 607
        },
        "id": "1_GoqeQRj3T_",
        "outputId": "3f7c7ed9-efea-4fa9-b7f0-c56599ae2f56"
      },
      "execution_count": null,
      "outputs": [
        {
          "output_type": "display_data",
          "data": {
            "text/plain": [
              "<Figure size 1000x600 with 1 Axes>"
            ],
            "image/png": "[encoded data removed]"
          },
          "metadata": {}
        }
      ]
    },
    {
      "cell_type": "code",
      "source": [
        "df.select(\"State\", \"AgeCategory\").distinct().show()\n"
      ],
      "metadata": {
        "colab": {
          "base_uri": "https://localhost:8080/"
        },
        "id": "KvYKmBiXzE7w",
        "outputId": "27c518ed-48a6-491b-8815-d2d43ebcec69"
      },
      "execution_count": null,
      "outputs": [
        {
          "output_type": "stream",
          "name": "stdout",
          "text": [
            "+--------------------+------------+\n",
            "|               State| AgeCategory|\n",
            "+--------------------+------------+\n",
            "|             Alabama|Age 25 to 29|\n",
            "|              Alaska|Age 65 to 69|\n",
            "|District of Columbia|Age 50 to 54|\n",
            "|            Kentucky|Age 60 to 64|\n",
            "|              Nevada|Age 50 to 54|\n",
            "|           Wisconsin|Age 25 to 29|\n",
            "|             Georgia|Age 40 to 44|\n",
            "|       Massachusetts|Age 25 to 29|\n",
            "|         Mississippi|Age 65 to 69|\n",
            "|            Kentucky|Age 75 to 79|\n",
            "|           Minnesota|Age 40 to 44|\n",
            "|             Montana|Age 45 to 49|\n",
            "|             Arizona|Age 70 to 74|\n",
            "|            Virginia|Age 65 to 69|\n",
            "|         Connecticut|Age 25 to 29|\n",
            "|               Texas|Age 30 to 34|\n",
            "|            Illinois|Age 70 to 74|\n",
            "|              Kansas|Age 18 to 24|\n",
            "|District of Columbia|Age 45 to 49|\n",
            "|              Kansas|Age 40 to 44|\n",
            "+--------------------+------------+\n",
            "only showing top 20 rows\n",
            "\n"
          ]
        }
      ]
    },
    {
      "cell_type": "code",
      "source": [
        "import matplotlib.pyplot as plt\n",
        "import pandas as pd\n",
        "\n",
        "age_category_counts_pd = df.groupBy(\"AgeCategory\").count().toPandas()\n",
        "\n",
        "\n",
        "plt.figure(figsize=(10, 6))\n",
        "plt.bar(age_category_counts_pd[\"AgeCategory\"], age_category_counts_pd[\"count\"])\n",
        "plt.xlabel(\"Age Category\")\n",
        "plt.ylabel(\"Count\")\n",
        "plt.title(\"Distribution of Age Category\")\n",
        "plt.xticks(rotation=45, ha=\"right\")\n",
        "plt.tight_layout()\n",
        "plt.show()"
      ],
      "metadata": {
        "colab": {
          "base_uri": "https://localhost:8080/",
          "height": 607
        },
        "id": "JeCFkLe6hLXO",
        "outputId": "316e8174-8b84-4abb-c337-90151a480d3a"
      },
      "execution_count": null,
      "outputs": [
        {
          "output_type": "display_data",
          "data": {
            "text/plain": [
              "<Figure size 1000x600 with 1 Axes>"
            ],
            "image/png": "[encoded data removed]"
          },
          "metadata": {}
        }
      ]
    },
    {
      "cell_type": "code",
      "source": [
        "numerical_columns = ['PatientId','AgeCategory','HeightInMeters','WeightInKilograms','BMI','HadHeartAttack','HadAngina','HadStroke','HadAsthma','HadSkinCancer','HadCOPD','HadDepressiveDisorder','HadKidneyDisease','HadArthritis','DeafOrHardOfHearing','BlindOrVisionDifficulty',\n",
        "                     'DifficultyConcentrating','DifficultyWalking','DifficultyDressingBathing','DifficultyErrands','ChestScan','AlcoholDrinkers','HIVTesting','FluVaxLast12','PneumoVaxEver','HighRiskLastYear','CovidPos']\n"
      ],
      "metadata": {
        "id": "GwCPg3q1JeRj"
      },
      "execution_count": null,
      "outputs": []
    },
    {
      "cell_type": "code",
      "source": [
        "import pyspark.sql.functions as F\n",
        "\n",
        "def check_outliers(df, column_name):\n",
        "    stats = df.select(F.min(column_name), F.max(column_name)).collect()\n",
        "    print(f\"{column_name} range: {stats[0][0]} to {stats[0][1]}\")"
      ],
      "metadata": {
        "id": "PyZ897z_NjhC"
      },
      "execution_count": null,
      "outputs": []
    },
    {
      "cell_type": "code",
      "source": [
        "rdd = df.rdd"
      ],
      "metadata": {
        "id": "RK6VOIFGSC1u"
      },
      "execution_count": null,
      "outputs": []
    },
    {
      "cell_type": "markdown",
      "source": [
        "# ACTION TRANSFORMATION"
      ],
      "metadata": {
        "id": "a5P06xZ2WW-q"
      }
    },
    {
      "cell_type": "markdown",
      "source": [
        "RDD TRANSFORMATIONS"
      ],
      "metadata": {
        "id": "qZ0RToASegIF"
      }
    },
    {
      "cell_type": "markdown",
      "source": [
        " filter() — Extract patients who had a heart attack."
      ],
      "metadata": {
        "id": "7wqfX7m4UjCK"
      }
    },
    {
      "cell_type": "code",
      "source": [
        "heart_attack_rdd = rdd.filter(lambda row: row[\"HadHeartAttack\"] == 1)\n",
        "print(heart_attack_rdd.collect())\n"
      ],
      "metadata": {
        "colab": {
          "base_uri": "https://localhost:8080/"
        },
        "id": "riGrjSpAUijP",
        "outputId": "213b11d4-e549-4f9a-dd51-c6b5adf546d1"
      },
      "execution_count": null,
      "outputs": [
        {
          "output_type": "stream",
          "name": "stdout",
          "text": [
            "[]\n"
          ]
        }
      ]
    },
    {
      "cell_type": "markdown",
      "source": [
        "map() funtion to Compute a new column for weight category based on BMI"
      ],
      "metadata": {
        "id": "bPSfTzGCXkwt"
      }
    },
    {
      "cell_type": "code",
      "source": [
        "def categorize_bmi(row):\n",
        "\n",
        "    bmi = float(row[\"BMI\"])\n",
        "    category = (\n",
        "        \"Underweight\" if bmi < 18.5 else\n",
        "        \"Normal weight\" if 18.5 <= bmi < 25 else\n",
        "        \"Overweight\" if 25 <= bmi < 30 else\n",
        "        \"Obese\"\n",
        "    )\n",
        "    return row + (category,)\n",
        "\n",
        "rdd_with_bmi_category = rdd.map(categorize_bmi)\n",
        "print(rdd_with_bmi_category.take(10))"
      ],
      "metadata": {
        "colab": {
          "base_uri": "https://localhost:8080/"
        },
        "id": "_oAJK1Z3XXvj",
        "outputId": "f7ec1af9-4508-453d-cbf2-778ff7a55209"
      },
      "execution_count": null,
      "outputs": [
        {
          "output_type": "stream",
          "name": "stdout",
          "text": [
            "[(1, 'Alabama', 'Female', 'Fair', 'Age 75 to 79', 1.629999995, 84.81999969, '32.10', 0, 1, 0, 1, 1, 0, 0, 0, 1, 'Yes', 0, 0, 0, 1, 0, 0, 'Former smoker', 'Never used e-cigarettes in my entire life', 1, 'White only, Non-Hispanic', 0, 0, 0, 1, 'No, did not receive any tetanus shot in the past 10 years', 0, 1, 'Obese'), (2, 'Alabama', 'Female', 'Very good', 'Age 65 to 69', 1.600000024, 71.66999817, '27.99', 0, 0, 0, 0, 0, 0, 0, 0, 1, 'No', 0, 0, 0, 0, 0, 0, 'Former smoker', 'Never used e-cigarettes in my entire life', 0, 'White only, Non-Hispanic', 0, 0, 1, 1, 'Yes, received Tdap', 0, 0, 'Overweight'), (3, 'Alabama', 'Male', 'Excellent', 'Age 60 to 64', 1.779999971, 71.20999908, '22.53', 0, 0, 0, 0, 0, 0, 0, 0, 0, 'No', 0, 0, 0, 0, 0, 0, 'Never smoked', 'Never used e-cigarettes in my entire life', 0, 'White only, Non-Hispanic', 1, 0, 0, 0, 'Yes, received tetanus shot but not sure what type', 0, 0, 'Normal weight'), (4, 'Alabama', 'Male', 'Very good', 'Age 70 to 74', 1.779999971, 95.25, '30.13', 0, 0, 0, 0, 0, 0, 0, 0, 1, 'Yes', 0, 0, 0, 0, 0, 0, 'Former smoker', 'Never used e-cigarettes in my entire life', 0, 'White only, Non-Hispanic', 0, 0, 1, 1, 'Yes, received tetanus shot but not sure what type', 0, 0, 'Obese'), (5, 'Alabama', 'Female', 'Good', 'Age 50 to 54', 1.679999948, 78.01999664, '27.76', 0, 0, 0, 0, 0, 0, 0, 0, 0, 'No', 0, 0, 0, 0, 0, 0, 'Never smoked', 'Never used e-cigarettes in my entire life', 1, 'Black only, Non-Hispanic', 0, 0, 1, 0, 'No, did not receive any tetanus shot in the past 10 years', 0, 0, 'Overweight'), (6, 'Alabama', 'Male', 'Very good', 'Age 75 to 79', 1.850000024, 108.8600006, '31.66', 0, 0, 0, 0, 0, 0, 0, 0, 1, 'No', 0, 1, 0, 1, 0, 0, 'Former smoker', 'Never used e-cigarettes in my entire life', 1, 'White only, Non-Hispanic', 1, 0, 0, 1, 'No, did not receive any tetanus shot in the past 10 years', 0, 1, 'Obese'), (7, 'Alabama', 'Female', 'Good', 'Age 70 to 74', 1.700000048, 74.83999634, '25.84', 0, 0, 0, 0, 0, 0, 0, 0, 1, 'No', 0, 0, 0, 0, 0, 0, 'Never smoked', 'Never used e-cigarettes in my entire life', 1, 'Black only, Non-Hispanic', 1, 0, 0, 0, 'No, did not receive any tetanus shot in the past 10 years', 0, 0, 'Overweight'), (8, 'Alaska', 'Female', 'Fair', 'Age 60 to 64', 1.700000048, 87.54000092, '30.23', 0, 0, 0, 0, 0, 0, 1, 0, 1, 'No, pre-diabetes or borderline diabetes', 1, 0, 1, 1, 0, 1, 'Never smoked', 'Never used e-cigarettes in my entire life', 0, 'Black only, Non-Hispanic', 0, 0, 0, 1, 'No, did not receive any tetanus shot in the past 10 years', 0, 0, 'Obese'), (9, 'Alabama', 'Female', 'Fair', 'Age 80 or older', 1.700000048, 90.72000122, '31.32', 0, 0, 0, 0, 1, 0, 1, 0, 1, 'No', 0, 0, 0, 1, 0, 0, 'Never smoked', 'Never used e-cigarettes in my entire life', 0, 'White only, Non-Hispanic', 0, 0, 1, 1, 'No, did not receive any tetanus shot in the past 10 years', 0, 1, 'Obese'), (10, 'Alabama', 'Female', 'Good', 'Age 80 or older', 1.549999952, 79.37999725, '33.07', 0, 0, 0, 0, 0, 0, 0, 0, 1, 'No', 0, 0, 0, 0, 0, 0, 'Never smoked', 'Never used e-cigarettes in my entire life', 0, 'White only, Non-Hispanic', 0, 0, 1, 1, 'No, did not receive any tetanus shot in the past 10 years', 0, 0, 'Obese')]\n"
          ]
        }
      ]
    },
    {
      "cell_type": "markdown",
      "source": [
        " distinct() — Find unique states in the dataset."
      ],
      "metadata": {
        "id": "e5VwMBX3XxS8"
      }
    },
    {
      "cell_type": "code",
      "source": [
        "unique_states = rdd.map(lambda row: row[\"State\"]).distinct()\n",
        "print(unique_states.collect())\n"
      ],
      "metadata": {
        "colab": {
          "base_uri": "https://localhost:8080/"
        },
        "id": "4O8TvLxoXj_O",
        "outputId": "b3ee84d5-671f-433c-f410-18bb02216aad"
      },
      "execution_count": null,
      "outputs": [
        {
          "output_type": "stream",
          "name": "stdout",
          "text": [
            "['Alabama', 'Connecticut', 'Colorado', 'Hawaii', 'Idaho', 'Indiana', 'Kansas', 'New Jersey', 'Nebraska', 'New York', 'Oklahoma', 'Washington', 'Illinois', 'Virginia', 'Louisiana', 'Wisconsin', 'Mississippi', 'Missouri', 'Nevada', 'New Hampshire', 'North Carolina', 'Oregon', 'South Dakota', 'Tennessee', 'Wyoming', 'Guam', 'Virgin Islands', 'Alaska', 'Arizona', 'California', 'Arkansas', 'Delaware', 'Florida', 'Georgia', 'District of Columbia', 'Iowa', 'Maryland', 'Minnesota', 'Montana', 'Ohio', 'Texas', 'Vermont', 'Utah', 'West Virginia', 'Massachusetts', 'Kentucky', 'Maine', 'Michigan', 'New Mexico', 'South Carolina', 'North Dakota', 'Pennsylvania', 'Rhode Island', 'Puerto Rico']\n"
          ]
        }
      ]
    },
    {
      "cell_type": "markdown",
      "source": [
        "reduceby"
      ],
      "metadata": {
        "id": "PwxJtfiEUzWn"
      }
    },
    {
      "cell_type": "code",
      "source": [
        "age_category_count = rdd.map(lambda row: (row[\"AgeCategory\"], 1)).reduceByKey(lambda x, y: x + y)\n",
        "sorted_age_category_count = age_category_count.sortBy(lambda x: x[1], ascending=False)\n",
        "\n",
        "\n",
        "print(sorted_age_category_count.collect())\n",
        "\n"
      ],
      "metadata": {
        "colab": {
          "base_uri": "https://localhost:8080/"
        },
        "id": "D9YygSfPZLu5",
        "outputId": "da88e1be-b766-4ab7-8195-b5204265dc25"
      },
      "execution_count": null,
      "outputs": [
        {
          "output_type": "stream",
          "name": "stdout",
          "text": [
            "[('Age 65 to 69', 27547), ('Age 60 to 64', 25685), ('Age 70 to 74', 24946), ('Age 55 to 59', 21422), ('Age 50 to 54', 19154), ('Age 75 to 79', 17679), ('Age 80 or older', 17544), ('Age 40 to 44', 16228), ('Age 45 to 49', 16095), ('Age 35 to 39', 14982), ('Age 30 to 34', 12825), ('Age 18 to 24', 12777), ('Age 25 to 29', 10746)]\n"
          ]
        }
      ]
    },
    {
      "cell_type": "markdown",
      "source": [
        "cartesian"
      ],
      "metadata": {
        "id": "IBB6uTAMe8HJ"
      }
    },
    {
      "cell_type": "code",
      "source": [
        "gender_rdd = rdd.map(lambda row: row[\"Sex\"]).distinct()\n",
        "health_rdd = rdd.map(lambda row: row[\"GeneralHealth\"]).distinct()\n",
        "cartesian_rdd = gender_rdd.cartesian(health_rdd)\n",
        "print(cartesian_rdd.collect())\n"
      ],
      "metadata": {
        "colab": {
          "base_uri": "https://localhost:8080/"
        },
        "id": "JZGJumMabb7J",
        "outputId": "0f86d379-0de3-49f6-c02d-6877b18d044e"
      },
      "execution_count": null,
      "outputs": [
        {
          "output_type": "stream",
          "name": "stdout",
          "text": [
            "[('Female', 'Excellent'), ('Female', 'Good'), ('Male', 'Excellent'), ('Male', 'Good'), ('Female', 'Fair'), ('Female', 'Very good'), ('Female', 'Poor'), ('Male', 'Fair'), ('Male', 'Very good'), ('Male', 'Poor')]\n"
          ]
        }
      ]
    },
    {
      "cell_type": "markdown",
      "source": [
        "sample()"
      ],
      "metadata": {
        "id": "TcZwzARxdwem"
      }
    },
    {
      "cell_type": "code",
      "source": [
        "sample_rdd = rdd.sample(withReplacement=False, fraction=0.1)\n",
        "print(sample_rdd.take(5))\n"
      ],
      "metadata": {
        "colab": {
          "base_uri": "https://localhost:8080/"
        },
        "id": "1x6qXIdYeTTf",
        "outputId": "5b68cf13-490f-4950-a31a-e971a15bcfaa"
      },
      "execution_count": null,
      "outputs": [
        {
          "output_type": "stream",
          "name": "stdout",
          "text": [
            "[Row(PatientID=10, State='Alabama', Sex='Female', GeneralHealth='Good', AgeCategory='Age 80 or older', HeightInMeters=1.549999952, WeightInKilograms=79.37999725, BMI='33.07', HadHeartAttack=0, HadAngina=0, HadStroke=0, HadAsthma=0, HadSkinCancer=0, HadCOPD=0, HadDepressiveDisorder=0, HadKidneyDisease=0, HadArthritis=1, HadDiabetes='No', DeafOrHardOfHearing=0, BlindOrVisionDifficulty=0, DifficultyConcentrating=0, DifficultyWalking=0, DifficultyDressingBathing=0, DifficultyErrands=0, SmokerStatus='Never smoked', ECigaretteUsage='Never used e-cigarettes in my entire life', ChestScan=0, RaceEthnicityCategory='White only, Non-Hispanic', AlcoholDrinkers=0, HIVTesting=0, FluVaxLast12=1, PneumoVaxEver=1, TetanusLast10Tdap='No, did not receive any tetanus shot in the past 10 years', HighRiskLastYear=0, CovidPos=0), Row(PatientID=11, State='Alaska', Sex='Female', GeneralHealth='Good', AgeCategory='Age 55 to 59', HeightInMeters=1.600000024, WeightInKilograms=113.4000015, BMI='44.29', HadHeartAttack=0, HadAngina=0, HadStroke=0, HadAsthma=1, HadSkinCancer=0, HadCOPD=0, HadDepressiveDisorder=0, HadKidneyDisease=0, HadArthritis=0, HadDiabetes='No', DeafOrHardOfHearing=0, BlindOrVisionDifficulty=0, DifficultyConcentrating=0, DifficultyWalking=0, DifficultyDressingBathing=0, DifficultyErrands=0, SmokerStatus='Never smoked', ECigaretteUsage='Never used e-cigarettes in my entire life', ChestScan=0, RaceEthnicityCategory='White only, Non-Hispanic', AlcoholDrinkers=1, HIVTesting=0, FluVaxLast12=1, PneumoVaxEver=0, TetanusLast10Tdap='No, did not receive any tetanus shot in the past 10 years', HighRiskLastYear=0, CovidPos=0), Row(PatientID=26, State='Alabama', Sex='Female', GeneralHealth='Good', AgeCategory='Age 65 to 69', HeightInMeters=1.799999952, WeightInKilograms=99.79000092, BMI='30.68', HadHeartAttack=0, HadAngina=0, HadStroke=0, HadAsthma=0, HadSkinCancer=0, HadCOPD=0, HadDepressiveDisorder=0, HadKidneyDisease=0, HadArthritis=0, HadDiabetes='No', DeafOrHardOfHearing=0, BlindOrVisionDifficulty=0, DifficultyConcentrating=0, DifficultyWalking=0, DifficultyDressingBathing=0, DifficultyErrands=0, SmokerStatus='Former smoker', ECigaretteUsage='Never used e-cigarettes in my entire life', ChestScan=0, RaceEthnicityCategory='White only, Non-Hispanic', AlcoholDrinkers=0, HIVTesting=1, FluVaxLast12=1, PneumoVaxEver=1, TetanusLast10Tdap='Yes, received Tdap', HighRiskLastYear=0, CovidPos=0), Row(PatientID=34, State='Alabama', Sex='Female', GeneralHealth='Very good', AgeCategory='Age 65 to 69', HeightInMeters=1.629999995, WeightInKilograms=62.59999847, BMI='23.69', HadHeartAttack=0, HadAngina=0, HadStroke=1, HadAsthma=0, HadSkinCancer=0, HadCOPD=0, HadDepressiveDisorder=0, HadKidneyDisease=0, HadArthritis=1, HadDiabetes='No', DeafOrHardOfHearing=0, BlindOrVisionDifficulty=0, DifficultyConcentrating=1, DifficultyWalking=1, DifficultyDressingBathing=0, DifficultyErrands=1, SmokerStatus='Never smoked', ECigaretteUsage='Never used e-cigarettes in my entire life', ChestScan=0, RaceEthnicityCategory='Black only, Non-Hispanic', AlcoholDrinkers=0, HIVTesting=1, FluVaxLast12=1, PneumoVaxEver=1, TetanusLast10Tdap='Yes, received Tdap', HighRiskLastYear=0, CovidPos=0), Row(PatientID=41, State='Alabama', Sex='Female', GeneralHealth='Good', AgeCategory='Age 60 to 64', HeightInMeters=1.519999981, WeightInKilograms=81.65000153, BMI='35.15', HadHeartAttack=0, HadAngina=0, HadStroke=0, HadAsthma=0, HadSkinCancer=0, HadCOPD=0, HadDepressiveDisorder=0, HadKidneyDisease=0, HadArthritis=0, HadDiabetes='No', DeafOrHardOfHearing=0, BlindOrVisionDifficulty=0, DifficultyConcentrating=0, DifficultyWalking=0, DifficultyDressingBathing=0, DifficultyErrands=0, SmokerStatus='Former smoker', ECigaretteUsage='Never used e-cigarettes in my entire life', ChestScan=0, RaceEthnicityCategory='White only, Non-Hispanic', AlcoholDrinkers=0, HIVTesting=0, FluVaxLast12=0, PneumoVaxEver=0, TetanusLast10Tdap='Yes, received Tdap', HighRiskLastYear=0, CovidPos=0)]\n"
          ]
        }
      ]
    },
    {
      "cell_type": "markdown",
      "source": [
        "Repartition"
      ],
      "metadata": {
        "id": "sGeh4SS9fbd5"
      }
    },
    {
      "cell_type": "code",
      "source": [
        "sorted_rdd = rdd.map(lambda row: (row[\"State\"], row[\"HadStroke\"])) \\\n",
        "                .repartitionAndSortWithinPartitions(3)\n",
        "\n",
        "print(sorted_rdd.glom().collect())"
      ],
      "metadata": {
        "id": "01R-2m41iBXA"
      },
      "execution_count": null,
      "outputs": []
    },
    {
      "cell_type": "markdown",
      "source": [
        "GetNumPartitions"
      ],
      "metadata": {
        "id": "nkLLWRPxfkqv"
      }
    },
    {
      "cell_type": "code",
      "source": [
        "print(rdd.getNumPartitions())"
      ],
      "metadata": {
        "colab": {
          "base_uri": "https://localhost:8080/"
        },
        "id": "SQdrfwoqs-fd",
        "outputId": "b32fda62-8c53-43ef-fc32-df5d7f34899f"
      },
      "execution_count": null,
      "outputs": [
        {
          "output_type": "stream",
          "name": "stdout",
          "text": [
            "2\n"
          ]
        }
      ]
    },
    {
      "cell_type": "markdown",
      "source": [
        "RDD ACTIONS"
      ],
      "metadata": {
        "id": "FT3kZATHvAwN"
      }
    },
    {
      "cell_type": "code",
      "source": [
        "rdd.first()\n"
      ],
      "metadata": {
        "colab": {
          "base_uri": "https://localhost:8080/"
        },
        "id": "iq9wFIHWAOLu",
        "outputId": "6a4ef3cd-c453-4897-9a7e-a5e55161a464"
      },
      "execution_count": null,
      "outputs": [
        {
          "output_type": "execute_result",
          "data": {
            "text/plain": [
              "Row(PatientID=1, State='Alabama', Sex='Female', GeneralHealth='Fair', AgeCategory='Age 75 to 79', HeightInMeters=1.629999995, WeightInKilograms=84.81999969, BMI='32.10', HadHeartAttack=0, HadAngina=1, HadStroke=0, HadAsthma=1, HadSkinCancer=1, HadCOPD=0, HadDepressiveDisorder=0, HadKidneyDisease=0, HadArthritis=1, HadDiabetes='Yes', DeafOrHardOfHearing=0, BlindOrVisionDifficulty=0, DifficultyConcentrating=0, DifficultyWalking=1, DifficultyDressingBathing=0, DifficultyErrands=0, SmokerStatus='Former smoker', ECigaretteUsage='Never used e-cigarettes in my entire life', ChestScan=1, RaceEthnicityCategory='White only, Non-Hispanic', AlcoholDrinkers=0, HIVTesting=0, FluVaxLast12=0, PneumoVaxEver=1, TetanusLast10Tdap='No, did not receive any tetanus shot in the past 10 years', HighRiskLastYear=0, CovidPos=1)"
            ]
          },
          "metadata": {},
          "execution_count": 26
        }
      ]
    },
    {
      "cell_type": "markdown",
      "source": [
        "foreach(): Applies a function to each element of the RDD (for side effects)."
      ],
      "metadata": {
        "id": "XoZLwy4Y1TT5"
      }
    },
    {
      "cell_type": "code",
      "source": [
        "\n",
        "def print_state(row):\n",
        "    print(row[\"State\"])\n",
        "rdd.foreach(print_state)"
      ],
      "metadata": {
        "id": "ginShHZE1NAh"
      },
      "execution_count": null,
      "outputs": []
    },
    {
      "cell_type": "markdown",
      "source": [
        "aggregate(): More general aggregation with separate seqOp and combOp functions."
      ],
      "metadata": {
        "id": "1RcVwYA41jB3"
      }
    },
    {
      "cell_type": "code",
      "source": [
        "max_bmi = rdd.map(lambda row: float(row[\"BMI\"])).aggregate(\n",
        "    float('-inf'),\n",
        "    lambda acc, value: value if value > acc else acc,  # seqOp: Find max using comparison\n",
        "    lambda acc1, acc2: acc2 if acc2 > acc1 else acc1   # combOp: Find max using comparison\n",
        ")\n",
        "print(f\"Maximum BMI: {max_bmi}\")"
      ],
      "metadata": {
        "colab": {
          "base_uri": "https://localhost:8080/"
        },
        "id": "o4EKqLWk1hAp",
        "outputId": "7371335a-bf7f-44c6-8f46-a952328ff0b3"
      },
      "execution_count": null,
      "outputs": [
        {
          "output_type": "stream",
          "name": "stdout",
          "text": [
            "Maximum BMI: 97.65\n"
          ]
        }
      ]
    },
    {
      "cell_type": "markdown",
      "source": [
        "top(n): Returns the top n elements of the RDD based on natural ordering.\n"
      ],
      "metadata": {
        "id": "TUDHPShX2mqA"
      }
    },
    {
      "cell_type": "code",
      "source": [
        "top_3_elements = rdd.top(3)\n",
        "print(f\"Top 3 elements: {top_3_elements}\")"
      ],
      "metadata": {
        "colab": {
          "base_uri": "https://localhost:8080/"
        },
        "id": "_GWi7cqP1kPo",
        "outputId": "d8f124aa-1cf9-4d66-c717-83e85790f5cf"
      },
      "execution_count": null,
      "outputs": [
        {
          "output_type": "stream",
          "name": "stdout",
          "text": [
            "Top 3 elements: [Row(PatientID=237630, State='Puerto Rico', Sex='Female', GeneralHealth='Good', AgeCategory='Age 30 to 34', HeightInMeters=1.600000024, WeightInKilograms=83.01000214, BMI='32.42', HadHeartAttack=0, HadAngina=0, HadStroke=0, HadAsthma=0, HadSkinCancer=0, HadCOPD=0, HadDepressiveDisorder=0, HadKidneyDisease=0, HadArthritis=0, HadDiabetes='No, pre-diabetes or borderline diabetes', DeafOrHardOfHearing=0, BlindOrVisionDifficulty=0, DifficultyConcentrating=0, DifficultyWalking=0, DifficultyDressingBathing=0, DifficultyErrands=0, SmokerStatus='Never smoked', ECigaretteUsage='Never used e-cigarettes in my entire life', ChestScan=1, RaceEthnicityCategory='Hispanic', AlcoholDrinkers=0, HIVTesting=1, FluVaxLast12=0, PneumoVaxEver=0, TetanusLast10Tdap='No, did not receive any tetanus shot in the past 10 years', HighRiskLastYear=0, CovidPos=0), Row(PatientID=237629, State='Puerto Rico', Sex='Female', GeneralHealth='Very good', AgeCategory='Age 25 to 29', HeightInMeters=1.570000052, WeightInKilograms=46.72000122, BMI='18.84', HadHeartAttack=0, HadAngina=0, HadStroke=0, HadAsthma=0, HadSkinCancer=0, HadCOPD=0, HadDepressiveDisorder=0, HadKidneyDisease=0, HadArthritis=0, HadDiabetes='No', DeafOrHardOfHearing=0, BlindOrVisionDifficulty=0, DifficultyConcentrating=0, DifficultyWalking=0, DifficultyDressingBathing=0, DifficultyErrands=0, SmokerStatus='Never smoked', ECigaretteUsage='Never used e-cigarettes in my entire life', ChestScan=0, RaceEthnicityCategory='Hispanic', AlcoholDrinkers=0, HIVTesting=1, FluVaxLast12=0, PneumoVaxEver=0, TetanusLast10Tdap='No, did not receive any tetanus shot in the past 10 years', HighRiskLastYear=0, CovidPos=1), Row(PatientID=237628, State='Puerto Rico', Sex='Male', GeneralHealth='Fair', AgeCategory='Age 45 to 49', HeightInMeters=1.75, WeightInKilograms=70.30999756, BMI='22.89', HadHeartAttack=1, HadAngina=1, HadStroke=0, HadAsthma=0, HadSkinCancer=0, HadCOPD=0, HadDepressiveDisorder=0, HadKidneyDisease=0, HadArthritis=1, HadDiabetes='No', DeafOrHardOfHearing=0, BlindOrVisionDifficulty=0, DifficultyConcentrating=1, DifficultyWalking=1, DifficultyDressingBathing=1, DifficultyErrands=0, SmokerStatus='Current smoker - now smokes every day', ECigaretteUsage='Not at all (right now)', ChestScan=1, RaceEthnicityCategory='Hispanic', AlcoholDrinkers=0, HIVTesting=1, FluVaxLast12=1, PneumoVaxEver=1, TetanusLast10Tdap='Yes, received Tdap', HighRiskLastYear=1, CovidPos=0)]\n"
          ]
        }
      ]
    },
    {
      "cell_type": "markdown",
      "source": [
        " fold(zeroValue, func)"
      ],
      "metadata": {
        "id": "rXJUzq4Xf7Fx"
      }
    },
    {
      "cell_type": "code",
      "source": [
        "\n",
        "sum_of_heights = rdd.map(lambda row: row[\"HeightInMeters\"]).fold(0, lambda x, y: x + y)\n",
        "print(f\"Sum of heights: {sum_of_heights}\")\n"
      ],
      "metadata": {
        "colab": {
          "base_uri": "https://localhost:8080/"
        },
        "id": "uNwBmQ2f4WlE",
        "outputId": "a9e79772-865f-4626-9855-dc36747793b2"
      },
      "execution_count": null,
      "outputs": [
        {
          "output_type": "stream",
          "name": "stdout",
          "text": [
            "Sum of heights: 405156.77973451803\n"
          ]
        }
      ]
    },
    {
      "cell_type": "markdown",
      "source": [
        "max()"
      ],
      "metadata": {
        "id": "VmyyRVyef90y"
      }
    },
    {
      "cell_type": "code",
      "source": [
        "max_weight = rdd.map(lambda row: row['WeightInKilograms']).max()\n",
        "print(f\"Maximum weight: {max_weight}\")"
      ],
      "metadata": {
        "colab": {
          "base_uri": "https://localhost:8080/"
        },
        "id": "0vlNVUU24m8q",
        "outputId": "4133e2ee-22c7-4d56-f8f1-a224f37e29a1"
      },
      "execution_count": null,
      "outputs": [
        {
          "output_type": "stream",
          "name": "stdout",
          "text": [
            "Maximum weight: 292.5700073\n"
          ]
        }
      ]
    },
    {
      "cell_type": "markdown",
      "source": [
        "variance()"
      ],
      "metadata": {
        "id": "k3Mv76swf_w3"
      }
    },
    {
      "cell_type": "code",
      "source": [
        "variance_bmi = rdd.map(lambda row: float(row[\"BMI\"])).variance()\n",
        "print(f\"Variance of BMI: {variance_bmi}\")"
      ],
      "metadata": {
        "colab": {
          "base_uri": "https://localhost:8080/"
        },
        "id": "uwqAWEP87x8z",
        "outputId": "190498be-1655-478a-efde-32a6d21c2bf9"
      },
      "execution_count": null,
      "outputs": [
        {
          "output_type": "stream",
          "name": "stdout",
          "text": [
            "Variance of BMI: 42.61545797875597\n"
          ]
        }
      ]
    },
    {
      "cell_type": "markdown",
      "source": [
        "min()"
      ],
      "metadata": {
        "id": "28jwDAhfgL1-"
      }
    },
    {
      "cell_type": "code",
      "source": [
        "\n",
        "min_age_category = rdd.map(lambda row: row[\"AgeCategory\"]).min()\n",
        "print(f\"Minimum age category: {min_age_category}\")\n"
      ],
      "metadata": {
        "colab": {
          "base_uri": "https://localhost:8080/"
        },
        "id": "EEWRrTAG75-n",
        "outputId": "ccb5c8de-f5aa-4ea4-b0e1-dc0203fc13c8"
      },
      "execution_count": null,
      "outputs": [
        {
          "output_type": "stream",
          "name": "stdout",
          "text": [
            "Minimum age category: Age 18 to 24\n"
          ]
        }
      ]
    },
    {
      "cell_type": "markdown",
      "source": [
        "stdev()"
      ],
      "metadata": {
        "id": "Bb69bemugOxt"
      }
    },
    {
      "cell_type": "code",
      "source": [
        "std_dev_bmi = rdd.map(lambda row: float(row[\"BMI\"])).stdev()\n",
        "print(f\"Standard deviation of BMI: {std_dev_bmi}\")"
      ],
      "metadata": {
        "id": "CFD6la1L9Asi",
        "colab": {
          "base_uri": "https://localhost:8080/"
        },
        "outputId": "4ec02789-31f1-4d03-8c25-4e514398ec70"
      },
      "execution_count": null,
      "outputs": [
        {
          "output_type": "stream",
          "name": "stdout",
          "text": [
            "Standard deviation of BMI: 6.528051621943256\n"
          ]
        }
      ]
    },
    {
      "cell_type": "markdown",
      "source": [
        "# MODEL\n"
      ],
      "metadata": {
        "id": "pHoT37UpWf4c"
      }
    },
    {
      "cell_type": "code",
      "source": [
        "from pyspark.ml.feature import VectorAssembler, StringIndexer\n",
        "from pyspark.ml.classification import LogisticRegression\n",
        "from pyspark.ml.evaluation import BinaryClassificationEvaluator"
      ],
      "metadata": {
        "id": "xegRlmIAb-1C"
      },
      "execution_count": null,
      "outputs": []
    },
    {
      "cell_type": "code",
      "source": [
        "categorical_columns = [col for col, dtype in df.dtypes if dtype == 'string' and col != 'GeneralHealth']\n",
        "for col in categorical_columns:\n",
        "    indexer = StringIndexer(inputCol=col, outputCol=col + \"_indexed\").fit(df)\n",
        "    df = indexer.transform(df).drop(col)"
      ],
      "metadata": {
        "id": "z9mn7nMTb7Tq"
      },
      "execution_count": null,
      "outputs": []
    },
    {
      "cell_type": "code",
      "source": [
        "indexer = StringIndexer(inputCol='GeneralHealth', outputCol='GeneralHealth_indexed').fit(df)\n",
        "df = indexer.transform(df).drop('GeneralHealth')\n"
      ],
      "metadata": {
        "id": "eEbDLavncU2Q"
      },
      "execution_count": null,
      "outputs": []
    },
    {
      "cell_type": "code",
      "source": [
        "feature_columns = [col for col in df.columns if col != 'GeneralHealth_indexed']\n",
        "assembler = VectorAssembler(inputCols=feature_columns, outputCol=\"features\")\n",
        "df = assembler.transform(df)\n",
        "df = df.select(\"features\", \"GeneralHealth_indexed\")\n"
      ],
      "metadata": {
        "id": "ec9_WnYreXpt"
      },
      "execution_count": null,
      "outputs": []
    },
    {
      "cell_type": "code",
      "source": [
        "df = df.select(\"features\", \"GeneralHealth_indexed\")"
      ],
      "metadata": {
        "id": "jbyxlSvGeZtS"
      },
      "execution_count": null,
      "outputs": []
    },
    {
      "cell_type": "code",
      "source": [
        "df.show(5)"
      ],
      "metadata": {
        "colab": {
          "base_uri": "https://localhost:8080/"
        },
        "id": "YyY8oTy_kxu8",
        "outputId": "7c18714a-6f31-44bf-853c-40095c3cec53"
      },
      "execution_count": null,
      "outputs": [
        {
          "output_type": "stream",
          "name": "stdout",
          "text": [
            "+--------------------+---------------------+\n",
            "|            features|GeneralHealth_indexed|\n",
            "+--------------------+---------------------+\n",
            "|(34,[0,1,2,3,20,2...|                  1.0|\n",
            "|(34,[0,1,2,3,20,2...|                  2.0|\n",
            "|(34,[0,1,2,3,20,2...|                  1.0|\n",
            "|(34,[0,1,2,3,20,2...|                  0.0|\n",
            "|(34,[0,1,2,3,25,2...|                  2.0|\n",
            "+--------------------+---------------------+\n",
            "only showing top 5 rows\n",
            "\n"
          ]
        }
      ]
    },
    {
      "cell_type": "code",
      "source": [
        "train_df, test_df = df.randomSplit([0.8, 0.2], seed=42)\n"
      ],
      "metadata": {
        "id": "PMcBGYOLfI1d"
      },
      "execution_count": null,
      "outputs": []
    },
    {
      "cell_type": "markdown",
      "source": [
        "LOGISTIC REGRESSION"
      ],
      "metadata": {
        "id": "IYdKayg__nxd"
      }
    },
    {
      "cell_type": "code",
      "source": [
        "lr = LogisticRegression(labelCol=\"GeneralHealth_indexed\", featuresCol=\"features\")\n",
        "model = lr.fit(train_df)\n",
        "predictions = model.transform(test_df)\n",
        "evaluator = BinaryClassificationEvaluator(labelCol=\"GeneralHealth_indexed\", rawPredictionCol=\"prediction\", metricName=\"areaUnderROC\")\n",
        "accuracy = evaluator.evaluate(predictions)\n",
        "print(f\"Test Accuracy: {accuracy:.2f}\")"
      ],
      "metadata": {
        "colab": {
          "base_uri": "https://localhost:8080/"
        },
        "id": "5CPZ7JB1fE9o",
        "outputId": "5feabfa4-c7ff-4701-c902-1badc74939d7"
      },
      "execution_count": null,
      "outputs": [
        {
          "output_type": "stream",
          "name": "stdout",
          "text": [
            "Test Accuracy: 0.54\n"
          ]
        }
      ]
    },
    {
      "cell_type": "code",
      "source": [
        "from pyspark.ml.tuning import ParamGridBuilder, CrossValidator\n",
        "from pyspark.ml.classification import LogisticRegression\n",
        "from pyspark.ml.evaluation import BinaryClassificationEvaluator\n",
        "\n",
        "lr = LogisticRegression(labelCol=\"GeneralHealth_indexed\", featuresCol=\"features\")\n",
        "\n",
        "# Define the parameter grid for hyperparameter tuning\n",
        "paramGrid = ParamGridBuilder() \\\n",
        "    .addGrid(lr.regParam, [0.0, 0.1]) \\\n",
        "    .addGrid(lr.elasticNetParam, [0.0, 0.5]) \\\n",
        "    .addGrid(lr.maxIter, [100]) \\\n",
        "    .build()\n",
        "evaluator = BinaryClassificationEvaluator(labelCol=\"GeneralHealth_indexed\", rawPredictionCol=\"prediction\", metricName=\"areaUnderROC\")\n",
        "crossval = CrossValidator(estimator=lr,\n",
        "                          estimatorParamMaps=paramGrid,\n",
        "                          evaluator=evaluator,\n",
        "                          numFolds=3)\n",
        "\n",
        "cvModel = crossval.fit(train_df)\n",
        "predictions = cvModel.transform(test_df)\n",
        "accuracy = evaluator.evaluate(predictions)\n",
        "print(f\"Test Accuracy (after hypertuning): {accuracy:.2f}\")\n",
        "best_lr_model = cvModel.bestModel"
      ],
      "metadata": {
        "colab": {
          "base_uri": "https://localhost:8080/"
        },
        "id": "IoPL4Ypel6Yk",
        "outputId": "0f995e76-f21b-4685-ccdf-2c2bd28d54f0"
      },
      "execution_count": null,
      "outputs": [
        {
          "output_type": "stream",
          "name": "stdout",
          "text": [
            "Test Accuracy (after hypertuning): 0.63\n"
          ]
        }
      ]
    },
    {
      "cell_type": "code",
      "source": [],
      "metadata": {
        "id": "Ed8SEWAWrA-2"
      },
      "execution_count": null,
      "outputs": []
    },
    {
      "cell_type": "markdown",
      "source": [
        "DECISION TREE CLASSIFIER"
      ],
      "metadata": {
        "id": "_N1Sx8v0_r-R"
      }
    },
    {
      "cell_type": "code",
      "source": [
        "from pyspark.ml.classification import DecisionTreeClassifier\n",
        "from pyspark.ml.evaluation import MulticlassClassificationEvaluator\n",
        "dt = DecisionTreeClassifier(labelCol=\"GeneralHealth_indexed\", featuresCol=\"features\", maxBins=3503)\n",
        "dt_model = dt.fit(train_df)\n",
        "dt_predictions = dt_model.transform(test_df)\n",
        "evaluator = MulticlassClassificationEvaluator(labelCol=\"GeneralHealth_indexed\", predictionCol=\"prediction\", metricName=\"accuracy\")\n",
        "accuracy = evaluator.evaluate(dt_predictions)\n",
        "print(f\"Decision Tree Accuracy: {accuracy:.2f}\")"
      ],
      "metadata": {
        "colab": {
          "base_uri": "https://localhost:8080/"
        },
        "id": "3UIQrgajjH8b",
        "outputId": "1ecd3b23-20ff-4baf-822e-0d93ba7cd0c3"
      },
      "execution_count": null,
      "outputs": [
        {
          "output_type": "stream",
          "name": "stdout",
          "text": [
            "Decision Tree Accuracy: 0.42\n"
          ]
        }
      ]
    },
    {
      "cell_type": "markdown",
      "source": [
        "RANDOM FOREST CLASSIFIER"
      ],
      "metadata": {
        "id": "SXf7mat9_0sY"
      }
    },
    {
      "cell_type": "code",
      "source": [
        "from pyspark.ml.classification import RandomForestClassifier\n",
        "from pyspark.ml.evaluation import MulticlassClassificationEvaluator\n",
        "\n",
        "rf = RandomForestClassifier(labelCol=\"GeneralHealth_indexed\", featuresCol=\"features\", numTrees=10,maxBins=3503) # You can adjust numTrees for better performance\n",
        "rf_model = rf.fit(train_df)\n",
        "rf_predictions = rf_model.transform(test_df)\n",
        "evaluator = MulticlassClassificationEvaluator(labelCol=\"GeneralHealth_indexed\", predictionCol=\"prediction\", metricName=\"accuracy\")\n",
        "accuracy = evaluator.evaluate(rf_predictions)\n",
        "print(f\"Random Forest Accuracy: {accuracy:.2f}\")"
      ],
      "metadata": {
        "colab": {
          "base_uri": "https://localhost:8080/"
        },
        "id": "x4pe0zzSjc9Q",
        "outputId": "06ba39cb-12a3-40e7-8c34-a02da5d8c556"
      },
      "execution_count": null,
      "outputs": [
        {
          "output_type": "stream",
          "name": "stdout",
          "text": [
            "Random Forest Accuracy: 0.42\n"
          ]
        }
      ]
    },
    {
      "cell_type": "markdown",
      "source": [
        "LINEAR SVC"
      ],
      "metadata": {
        "id": "MPcDVim-__xb"
      }
    },
    {
      "cell_type": "markdown",
      "source": [],
      "metadata": {
        "id": "zzF9WvQBAFWQ"
      }
    },
    {
      "cell_type": "code",
      "source": [
        "from pyspark.ml.feature import StandardScaler\n",
        "from pyspark.sql.functions import col\n",
        "from sklearn.neighbors import KNeighborsClassifier\n",
        "from sklearn.metrics import accuracy_score\n",
        "import pandas as pd\n",
        "scaler = StandardScaler(inputCol=\"features\", outputCol=\"scaled_features\", withStd=True, withMean=False)\n",
        "scaler_model = scaler.fit(df)\n",
        "df = scaler_model.transform(df).select(\"scaled_features\", \"GeneralHealth_indexed\")\n",
        "df_pandas = df.toPandas()\n",
        "\n",
        "X = df_pandas[\"scaled_features\"].apply(lambda x: x.toArray()).tolist()\n",
        "y = df_pandas[\"GeneralHealth_indexed\"]\n",
        "\n",
        "import numpy as np\n",
        "X = np.array(X)\n",
        "y = np.array(y)\n",
        "\n",
        "from sklearn.model_selection import train_test_split\n",
        "X_train, X_test, y_train, y_test = train_test_split(X, y, test_size=0.2, random_state=42)\n",
        "\n",
        "knn = KNeighborsClassifier(n_neighbors=5)\n",
        "knn.fit(X_train, y_train)\n",
        "y_pred = knn.predict(X_test)\n",
        "accuracy = accuracy_score(y_test, y_pred)\n",
        "print(f\"KNN Accuracy: {accuracy:.2f}\")\n"
      ],
      "metadata": {
        "colab": {
          "base_uri": "https://localhost:8080/"
        },
        "id": "G2pAOMJQyvzx",
        "outputId": "4f42c46f-a238-49e7-bf09-2715dd215e95"
      },
      "execution_count": null,
      "outputs": [
        {
          "output_type": "stream",
          "name": "stdout",
          "text": [
            "KNN Accuracy: 0.40\n"
          ]
        }
      ]
    },
    {
      "cell_type": "code",
      "source": [
        "!pip install xgboost\n",
        "import numpy as np\n",
        "from xgboost import XGBClassifier\n",
        "from sklearn.metrics import accuracy_score\n",
        "X = np.array(df_pandas[\"scaled_features\"].apply(lambda x: x.toArray()).tolist())\n",
        "y = df_pandas[\"GeneralHealth_indexed\"].values\n",
        "X_train, X_test, y_train, y_test = train_test_split(X, y, test_size=0.2, random_state=42)\n",
        "\n",
        "xgb = XGBClassifier(\n",
        "     n_estimators=200,\n",
        "    learning_rate=0.05,\n",
        "    max_depth=5,\n",
        "    subsample=0.9,\n",
        "    colsample_bytree=0.7,\n",
        "    objective='multi:softmax',\n",
        "    num_class=5,\n",
        "    random_state=42,\n",
        "    gamma=1,\n",
        "    min_child_weight=3\n",
        ")\n",
        "\n",
        "xgb.fit(X_train, y_train)\n",
        "y_pred = xgb.predict(X_test)\n",
        "accuracy = accuracy_score(y_test, y_pred)\n",
        "print(f\"XGBoost Accuracy: {accuracy:.2f}\")"
      ],
      "metadata": {
        "colab": {
          "base_uri": "https://localhost:8080/"
        },
        "id": "_tQUarK-1XM5",
        "outputId": "8197c494-6179-420a-91f5-39b3764f50f5"
      },
      "execution_count": null,
      "outputs": [
        {
          "output_type": "stream",
          "name": "stdout",
          "text": [
            "Requirement already satisfied: xgboost in /usr/local/lib/python3.11/dist-packages (2.1.4)\n",
            "Requirement already satisfied: numpy in /usr/local/lib/python3.11/dist-packages (from xgboost) (2.0.2)\n",
            "Requirement already satisfied: nvidia-nccl-cu12 in /usr/local/lib/python3.11/dist-packages (from xgboost) (2.21.5)\n",
            "Requirement already satisfied: scipy in /usr/local/lib/python3.11/dist-packages (from xgboost) (1.14.1)\n",
            "XGBoost Accuracy: 0.44\n"
          ]
        }
      ]
    }
  ]
}